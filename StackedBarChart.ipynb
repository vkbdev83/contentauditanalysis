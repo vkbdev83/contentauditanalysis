import pandas as pd 
data = pd.read_csv("/tmp/auditfull.csv")
data['time_stamp']= pd.to_datetime(data['time_stamp'])
data['just_date'] = data['time_stamp'].dt.date
data.head()
df = data.pivot( columns='event_name',values='event_name')
df = df.fillna(0)
df.head()

def f(x):
    return x if x == 0 else 1

df = df.applymap(f)
df = df.join(data["just_date"])
#Filter data based on the dates required
df = df.loc[df['just_date'] > pd.to_datetime('2020-04-10')]
df = df.groupby('just_date').sum()
df.index.names = ['Event Date']
df.plot.bar(rot=0,figsize=(12,7),title='Events',stacked=True)
