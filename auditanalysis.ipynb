import pandas as pd 
import matplotlib.pyplot as plt
data = pd.read_csv("/tmp/auditfull.csv")
data['time_stamp']= pd.to_datetime(data['time_stamp'])
data['just_date'] = data['time_stamp'].dt.date
fig, ax = plt.subplots(figsize=(15,7))
data.groupby(['just_date']).count()['event_name'].plot(ax=ax)
